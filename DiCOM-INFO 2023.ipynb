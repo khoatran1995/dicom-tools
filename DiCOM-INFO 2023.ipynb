{
 "cells": [
  {
   "cell_type": "code",
   "execution_count": 38,
   "id": "c2442575",
   "metadata": {},
   "outputs": [],
   "source": [
    "import pydicom\n",
    "import os\n",
    "import pandas as pd\n",
    "import tkinter as tk"
   ]
  },
  {
   "cell_type": "code",
   "execution_count": 39,
   "id": "bf1b77fa",
   "metadata": {},
   "outputs": [],
   "source": [
    "HEIGHT = 400\n",
    "WIDTH = 700\n",
    "BG = \"#FFFBD2\"\n",
    "buttonBG = \"#D3D3D3\""
   ]
  },
  {
   "cell_type": "code",
   "execution_count": 40,
   "id": "214ed609",
   "metadata": {},
   "outputs": [],
   "source": [
    "def info_function(path_dicoms):\n",
    "        filename = os.listdir(path_dicoms)\n",
    "        dicom_paths = [path_dicoms + \"\\\\\"+s for s in filename]\n",
    "\n",
    "        info_data = pd.DataFrame(columns = ['acis_id', 'name', 'yob','gender','cxr_date',\n",
    "                                            'study_time','content_time','manufacturer','modality','photometric_interpretation',\n",
    "                                            'detector_type','detector_configuration','detector_description',\n",
    "                                            'bits_allocated','bits_stored','institution_name','study_id','file_path']) \n",
    "    \n",
    "    \n",
    "        for s in dicom_paths:\n",
    "            a = pydicom.dcmread(s,force=True)\n",
    "            if hasattr(a,'DetectorType') and hasattr(a,'DetectorConfiguration') and hasattr(a,'DetectorDescription'):\n",
    "                info_data = info_data.append({'acis_id':a.PatientID, 'name':a.PatientName,'yob':a.PatientBirthDate,'gender':a.PatientSex,\n",
    "                                             'cxr_date':a.StudyDate,'study_time':a.StudyTime,'content_time':a.ContentTime,\n",
    "                                             'manufacturer':a.Manufacturer,'modality': a.Modality,\n",
    "                                             'detector_type': a.DetectorType, 'detector_configuration': a.DetectorConfiguration,\n",
    "                                           'detector_description': a.DetectorDescription,\n",
    "                                             'institution_name': a.InstitutionName,\n",
    "                                             'photometric_interpretation': a.PhotometricInterpretation,\n",
    "                                             'bits_allocated':a.BitsAllocated,'bits_stored':a.BitsStored,\n",
    "                                             'study_id':a.StudyID,'file_path': s},ignore_index=True)\n",
    "            else:\n",
    "                info_data = info_data.append({'acis_id':a.PatientID, 'name':a.PatientName,'yob':a.PatientBirthDate,'gender':a.PatientSex,\n",
    "                                             'cxr_date':a.StudyDate,'study_time':a.StudyTime,'content_time':a.ContentTime,\n",
    "                                             'manufacturer':a.Manufacturer,'modality': a.Modality,\n",
    "                                             'institution_name': a.InstitutionName,\n",
    "                                             'photometric_interpretation': a.PhotometricInterpretation,\n",
    "                                             'bits_allocated':a.BitsAllocated,'bits_stored':a.BitsStored,\n",
    "                                             'study_id':a.StudyID,'file_path': s},ignore_index=True)           \n",
    "        output_folder = path_dicoms + \"\\\\\"  + \"PatientList.xlsx\"\n",
    "        info_data.to_excel(output_folder)\n",
    "        a = \"Data of \" + str(len(info_data)) + \" DICOM files were exported to the 'PatientList.xlsx' file at:\\n \" + path_dicoms\n",
    "        b = \"If you want to rerun this tool with this folder, please remove the file 'PatientList.xlsx' \\n from the it and click 'Process' again\"\n",
    "        label2 = tk.Label(frame, text = a,bg=BG,font=(\"Arial\", 12), fg =\"black\")\n",
    "        label2.place(relx=0.05,rely=0.65,relwidth =0.9, relheight=0.1)\n",
    "        label3 = tk.Label(frame, text = b,bg=BG,font=(\"Arial\", 12), fg =\"black\")\n",
    "        label3.place(relx=0.05,rely=0.75,relwidth =0.9, relheight=0.12)"
   ]
  },
  {
   "cell_type": "code",
   "execution_count": 42,
   "id": "542b0606",
   "metadata": {},
   "outputs": [],
   "source": [
    "root = tk.Tk()\n",
    "root.title('Dicom-Info Khoa_Tran-2023')\n",
    "canvas = tk.Canvas(root, height = HEIGHT, width = WIDTH)\n",
    "canvas.pack()\n",
    "frame = tk.Frame(root, bg= BG)\n",
    "frame.place(relx=0.01,rely=0.01,relwidth =0.98, relheight=0.98)\n",
    "\n",
    "    \n",
    "label0 = tk.Label(frame, text = \"DICOM-INFO 2023\", \n",
    "                     bg=BG,font=(\".VnCooperH\", 30), fg =\"#FF4E50\")\n",
    "label0.place(relx=0.05,rely=0.001,relwidth =0.9, relheight=0.2)\n",
    "    \n",
    "label1 = tk.Label(frame, text = \"Please input the path to the DICOM folder\\n (this folder should only have DICOM files with '*.dcm' extension)\", \n",
    "                     bg=BG,font=(\"Arial\", 12), fg =\"black\")\n",
    "label1.place(relx=0.05,rely=0.2,relwidth =0.9, relheight=0.1)\n",
    "    \n",
    "path_dicoms = tk.Entry(frame, bg='white',font=(\"Arial\", 11))\n",
    "path_dicoms.place(relx=0.1,rely=0.35,relwidth =0.8, relheight=0.1)\n",
    "    \n",
    "    \n",
    "button = tk.Button(frame, text=\"Process\",font=(\"Arial\", 11), bg = buttonBG,command=lambda: info_function(path_dicoms.get()))\n",
    "button.place(relx=0.425,rely=0.50,relwidth =0.2, relheight=0.1)\n",
    "    \n",
    "root.mainloop()"
   ]
  },
  {
   "cell_type": "code",
   "execution_count": null,
   "id": "1d0c4322",
   "metadata": {},
   "outputs": [],
   "source": []
  }
 ],
 "metadata": {
  "kernelspec": {
   "display_name": "Python 3 (ipykernel)",
   "language": "python",
   "name": "python3"
  },
  "language_info": {
   "codemirror_mode": {
    "name": "ipython",
    "version": 3
   },
   "file_extension": ".py",
   "mimetype": "text/x-python",
   "name": "python",
   "nbconvert_exporter": "python",
   "pygments_lexer": "ipython3",
   "version": "3.8.3"
  }
 },
 "nbformat": 4,
 "nbformat_minor": 5
}
