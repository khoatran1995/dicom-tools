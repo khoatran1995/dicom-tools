{
 "cells": [
  {
   "cell_type": "code",
   "execution_count": 23,
   "id": "d4a07eb8",
   "metadata": {},
   "outputs": [],
   "source": [
    "import pydicom\n",
    "import pandas as pd\n",
    "import os"
   ]
  },
  {
   "cell_type": "code",
   "execution_count": 24,
   "id": "c8d848ca",
   "metadata": {},
   "outputs": [],
   "source": [
    "path_dicoms = str(r\"D:\\DICOMs - Deindentified - 2\")"
   ]
  },
  {
   "cell_type": "code",
   "execution_count": 25,
   "id": "87fd1107",
   "metadata": {},
   "outputs": [
    {
     "name": "stdout",
     "output_type": "stream",
     "text": [
      "done\n"
     ]
    }
   ],
   "source": [
    "filename = os.listdir(path_dicoms)\n",
    "dicom_paths = [path_dicoms + \"\\\\\" + s for s in filename]\n",
    "for s in dicom_paths:\n",
    "    a = pydicom.dcmread(s, force = True)\n",
    "    a.PatientName = \"N/A\"\n",
    "    a.PatientID= \"N/A\"\n",
    "    a.PatientBirthDate= \"N/A\"\n",
    "    a.PatientSex= \"N/A\"\n",
    "    a.PatientWeight= 0.0\n",
    "    a.PatientAddress= \"N/A\"\n",
    "    a.StudyDate= \"N/A\"\n",
    "    a.StudyTime= \"N/A\"\n",
    "    a.StudyID= \"N/A\"\n",
    "    a.StudyModality= \"N/A\"\n",
    "    a.StudyDescription= \"N/A\"\n",
    "    a.SeriesDate= \"N/A\"\n",
    "    a.SeriesTime= \"N/A\"\n",
    "    a.SeriesDescription= \"N/A\"\n",
    "    a.AcquisitionDate= \"N/A\"\n",
    "    a.ContentDate= \"N/A\"\n",
    "    a.AcquisitionTime= \"N/A\"\n",
    "    a.ContentTime= \"N/A\"\n",
    "    a.PatientAge=\"N/A\"\n",
    "    a.save_as(s)\n",
    "print(\"done\")"
   ]
  },
  {
   "cell_type": "code",
   "execution_count": null,
   "id": "28eef1a1",
   "metadata": {},
   "outputs": [],
   "source": []
  },
  {
   "cell_type": "code",
   "execution_count": null,
   "id": "9478b3bc",
   "metadata": {},
   "outputs": [],
   "source": []
  }
 ],
 "metadata": {
  "kernelspec": {
   "display_name": "Python 3 (ipykernel)",
   "language": "python",
   "name": "python3"
  },
  "language_info": {
   "codemirror_mode": {
    "name": "ipython",
    "version": 3
   },
   "file_extension": ".py",
   "mimetype": "text/x-python",
   "name": "python",
   "nbconvert_exporter": "python",
   "pygments_lexer": "ipython3",
   "version": "3.8.0"
  }
 },
 "nbformat": 4,
 "nbformat_minor": 5
}
