{
 "cells": [
  {
   "cell_type": "code",
   "execution_count": 11,
   "id": "9831a5c9",
   "metadata": {},
   "outputs": [],
   "source": [
    "import pandas as pd\n",
    "import os\n",
    "\n",
    "# Path to the folder containing your CSV files\n",
    "folder_path = r'C:\\Users\\Admin\\Desktop\\Thông tin DICOM\\Qure score 2'  # Adjust the path pattern accordingly\n",
    "\n",
    "# Get a list of all CSV files in the folder\n",
    "file_paths = [os.path.join(folder_path, file) for file in os.listdir(folder_path) if os.path.isfile(os.path.join(folder_path, file))]\n",
    "\n",
    "dfs = []\n",
    "# Loop through each CSV file and append its data to the dfs list\n",
    "for file in file_paths:\n",
    "    # Read the CSV file into a DataFrame\n",
    "    df = pd.read_csv(file)\n",
    "    \n",
    "    # Append the DataFrame to the dfs list\n",
    "    dfs.append(df)\n",
    "\n",
    "# Concatenate the list of DataFrames into a single DataFrame\n",
    "merged_data = pd.concat(dfs, ignore_index=True)\n",
    "\n",
    "# Save the merged data to a new CSV file or perform further processing as needed\n",
    "merged_data.to_excel(r'C:\\Users\\Admin\\Desktop\\Thông tin DICOM\\Qure score 2\\merged_data.xlsx', index=False)"
   ]
  },
  {
   "cell_type": "code",
   "execution_count": 4,
   "id": "3360dc2c",
   "metadata": {},
   "outputs": [
    {
     "name": "stdout",
     "output_type": "stream",
     "text": [
      "all done\n"
     ]
    }
   ],
   "source": [
    "import pandas as pd\n",
    "import os\n",
    "\n",
    "# Path to the folder containing your CSV files\n",
    "folder_path = r'D:\\Khoa Tran\\Work\\04 Xpert results Python tool\\Results\\Each province'  # Adjust the path pattern accordingly\n",
    "\n",
    "# Get a list of all CSV files in the folder\n",
    "file_paths = [os.path.join(folder_path, file) for file in os.listdir(folder_path) if os.path.isfile(os.path.join(folder_path, file))]\n",
    "\n",
    "dfs = []\n",
    "# Loop through each CSV file and append its data to the dfs list\n",
    "for file in file_paths:\n",
    "    # Read the Excel file into a DataFrame\n",
    "    df = pd.read_excel(file)\n",
    "    \n",
    "    # Append the DataFrame to the dfs list\n",
    "    dfs.append(df)\n",
    "\n",
    "# Concatenate the list of DataFrames into a single DataFrame\n",
    "merged_data = pd.concat(dfs, ignore_index=True)\n",
    "\n",
    "# Save the merged data to a new CSV file or perform further processing as needed\n",
    "merged_data.to_excel(r'D:\\Khoa Tran\\Work\\04 Xpert results Python tool\\Results\\Each province\\total.xlsx', index=False)\n",
    "print(\"all done\")"
   ]
  },
  {
   "cell_type": "code",
   "execution_count": null,
   "id": "4f5be6fd",
   "metadata": {},
   "outputs": [],
   "source": []
  }
 ],
 "metadata": {
  "kernelspec": {
   "display_name": "Python 3 (ipykernel)",
   "language": "python",
   "name": "python3"
  },
  "language_info": {
   "codemirror_mode": {
    "name": "ipython",
    "version": 3
   },
   "file_extension": ".py",
   "mimetype": "text/x-python",
   "name": "python",
   "nbconvert_exporter": "python",
   "pygments_lexer": "ipython3",
   "version": "3.8.3"
  }
 },
 "nbformat": 4,
 "nbformat_minor": 5
}
